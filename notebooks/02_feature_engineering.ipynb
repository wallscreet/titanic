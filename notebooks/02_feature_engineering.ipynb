{
 "cells": [
  {
   "cell_type": "code",
   "execution_count": 1,
   "id": "8e79b135",
   "metadata": {},
   "outputs": [],
   "source": [
    "import pandas as pd\n",
    "import numpy as np\n",
    "import matplotlib.pyplot as plt\n",
    "import seaborn as sns\n",
    "import os\n",
    "from sklearn.preprocessing import StandardScaler, OneHotEncoder\n",
    "from sklearn.compose import ColumnTransformer\n",
    "from sklearn.pipeline import Pipeline\n",
    "import joblib\n",
    "\n",
    "sns.set(style=\"whitegrid\")\n",
    "os.makedirs('../data/processed', exist_ok=True)\n",
    "os.makedirs('../reports/feature_plots', exist_ok=True)"
   ]
  },
  {
   "cell_type": "code",
   "execution_count": 2,
   "id": "a4e5bbc4",
   "metadata": {},
   "outputs": [
    {
     "name": "stdout",
     "output_type": "stream",
     "text": [
      "Train: (891, 12) | Test: (418, 11)\n"
     ]
    },
    {
     "data": {
      "text/html": [
       "<div>\n",
       "<style scoped>\n",
       "    .dataframe tbody tr th:only-of-type {\n",
       "        vertical-align: middle;\n",
       "    }\n",
       "\n",
       "    .dataframe tbody tr th {\n",
       "        vertical-align: top;\n",
       "    }\n",
       "\n",
       "    .dataframe thead th {\n",
       "        text-align: right;\n",
       "    }\n",
       "</style>\n",
       "<table border=\"1\" class=\"dataframe\">\n",
       "  <thead>\n",
       "    <tr style=\"text-align: right;\">\n",
       "      <th></th>\n",
       "      <th>PassengerId</th>\n",
       "      <th>Survived</th>\n",
       "      <th>Pclass</th>\n",
       "      <th>Name</th>\n",
       "      <th>Sex</th>\n",
       "      <th>Age</th>\n",
       "      <th>SibSp</th>\n",
       "      <th>Parch</th>\n",
       "      <th>Ticket</th>\n",
       "      <th>Fare</th>\n",
       "      <th>Cabin</th>\n",
       "      <th>Embarked</th>\n",
       "    </tr>\n",
       "  </thead>\n",
       "  <tbody>\n",
       "    <tr>\n",
       "      <th>0</th>\n",
       "      <td>1</td>\n",
       "      <td>0</td>\n",
       "      <td>3</td>\n",
       "      <td>Braund, Mr. Owen Harris</td>\n",
       "      <td>male</td>\n",
       "      <td>22.0</td>\n",
       "      <td>1</td>\n",
       "      <td>0</td>\n",
       "      <td>A/5 21171</td>\n",
       "      <td>7.2500</td>\n",
       "      <td>NaN</td>\n",
       "      <td>S</td>\n",
       "    </tr>\n",
       "    <tr>\n",
       "      <th>1</th>\n",
       "      <td>2</td>\n",
       "      <td>1</td>\n",
       "      <td>1</td>\n",
       "      <td>Cumings, Mrs. John Bradley (Florence Briggs Th...</td>\n",
       "      <td>female</td>\n",
       "      <td>38.0</td>\n",
       "      <td>1</td>\n",
       "      <td>0</td>\n",
       "      <td>PC 17599</td>\n",
       "      <td>71.2833</td>\n",
       "      <td>C85</td>\n",
       "      <td>C</td>\n",
       "    </tr>\n",
       "    <tr>\n",
       "      <th>2</th>\n",
       "      <td>3</td>\n",
       "      <td>1</td>\n",
       "      <td>3</td>\n",
       "      <td>Heikkinen, Miss. Laina</td>\n",
       "      <td>female</td>\n",
       "      <td>26.0</td>\n",
       "      <td>0</td>\n",
       "      <td>0</td>\n",
       "      <td>STON/O2. 3101282</td>\n",
       "      <td>7.9250</td>\n",
       "      <td>NaN</td>\n",
       "      <td>S</td>\n",
       "    </tr>\n",
       "    <tr>\n",
       "      <th>3</th>\n",
       "      <td>4</td>\n",
       "      <td>1</td>\n",
       "      <td>1</td>\n",
       "      <td>Futrelle, Mrs. Jacques Heath (Lily May Peel)</td>\n",
       "      <td>female</td>\n",
       "      <td>35.0</td>\n",
       "      <td>1</td>\n",
       "      <td>0</td>\n",
       "      <td>113803</td>\n",
       "      <td>53.1000</td>\n",
       "      <td>C123</td>\n",
       "      <td>S</td>\n",
       "    </tr>\n",
       "    <tr>\n",
       "      <th>4</th>\n",
       "      <td>5</td>\n",
       "      <td>0</td>\n",
       "      <td>3</td>\n",
       "      <td>Allen, Mr. William Henry</td>\n",
       "      <td>male</td>\n",
       "      <td>35.0</td>\n",
       "      <td>0</td>\n",
       "      <td>0</td>\n",
       "      <td>373450</td>\n",
       "      <td>8.0500</td>\n",
       "      <td>NaN</td>\n",
       "      <td>S</td>\n",
       "    </tr>\n",
       "  </tbody>\n",
       "</table>\n",
       "</div>"
      ],
      "text/plain": [
       "   PassengerId  Survived  Pclass  \\\n",
       "0            1         0       3   \n",
       "1            2         1       1   \n",
       "2            3         1       3   \n",
       "3            4         1       1   \n",
       "4            5         0       3   \n",
       "\n",
       "                                                Name     Sex   Age  SibSp  \\\n",
       "0                            Braund, Mr. Owen Harris    male  22.0      1   \n",
       "1  Cumings, Mrs. John Bradley (Florence Briggs Th...  female  38.0      1   \n",
       "2                             Heikkinen, Miss. Laina  female  26.0      0   \n",
       "3       Futrelle, Mrs. Jacques Heath (Lily May Peel)  female  35.0      1   \n",
       "4                           Allen, Mr. William Henry    male  35.0      0   \n",
       "\n",
       "   Parch            Ticket     Fare Cabin Embarked  \n",
       "0      0         A/5 21171   7.2500   NaN        S  \n",
       "1      0          PC 17599  71.2833   C85        C  \n",
       "2      0  STON/O2. 3101282   7.9250   NaN        S  \n",
       "3      0            113803  53.1000  C123        S  \n",
       "4      0            373450   8.0500   NaN        S  "
      ]
     },
     "execution_count": 2,
     "metadata": {},
     "output_type": "execute_result"
    }
   ],
   "source": [
    "train_raw = pd.read_csv('../data/raw/train.csv')\n",
    "test_raw  = pd.read_csv('../data/raw/test.csv')\n",
    "\n",
    "print(f\"Train: {train_raw.shape} | Test: {test_raw.shape}\")\n",
    "train_raw.head()"
   ]
  },
  {
   "cell_type": "code",
   "execution_count": 3,
   "id": "19f4404a",
   "metadata": {},
   "outputs": [
    {
     "name": "stdout",
     "output_type": "stream",
     "text": [
      "Full dataset: (1309, 13)\n"
     ]
    }
   ],
   "source": [
    "train_raw['is_train'] = 1\n",
    "test_raw['is_train']  = 0\n",
    "\n",
    "full = pd.concat([train_raw, test_raw], sort=False)\n",
    "print(f\"Full dataset: {full.shape}\")"
   ]
  },
  {
   "cell_type": "code",
   "execution_count": 4,
   "id": "801ef517",
   "metadata": {},
   "outputs": [
    {
     "name": "stdout",
     "output_type": "stream",
     "text": [
      "Missing values before:\n",
      "Survived     418\n",
      "Age          263\n",
      "Fare           1\n",
      "Cabin       1014\n",
      "Embarked       2\n",
      "dtype: int64\n"
     ]
    }
   ],
   "source": [
    "print(\"Missing values before:\")\n",
    "print(full.isnull().sum()[full.isnull().sum() > 0])"
   ]
  },
  {
   "cell_type": "code",
   "execution_count": 5,
   "id": "4ff8c6cb",
   "metadata": {},
   "outputs": [],
   "source": [
    "full['Embarked'] = full['Embarked'].fillna(full['Embarked'].mode()[0])"
   ]
  },
  {
   "cell_type": "code",
   "execution_count": 6,
   "id": "bc1d65cb",
   "metadata": {},
   "outputs": [],
   "source": [
    "median_fare = full.groupby('Pclass')['Fare'].median()\n",
    "full['Fare'] = full.groupby('Pclass')['Fare'].transform(lambda x: x.fillna(x.median()))"
   ]
  },
  {
   "cell_type": "code",
   "execution_count": 7,
   "id": "02c96755",
   "metadata": {},
   "outputs": [],
   "source": [
    "full['Title'] = full['Name'].str.extract(r' ([A-Za-z]+)\\.', expand=False)\n",
    "\n",
    "title_map = {\n",
    "    'Mr': 'Mr', 'Miss': 'Miss', 'Mrs': 'Mrs', 'Master': 'Master',\n",
    "    'Dr': 'Rare', 'Rev': 'Rare', 'Col': 'Rare', 'Major': 'Rare',\n",
    "    'Mlle': 'Miss', 'Countess': 'Rare', 'Ms': 'Miss', 'Lady': 'Rare',\n",
    "    'Jonkheer': 'Rare', 'Don': 'Rare', 'Dona': 'Rare', 'Mme': 'Mrs', 'Capt': 'Rare', 'Sir': 'Rare'\n",
    "}\n",
    "full['Title'] = full['Title'].map(title_map)\n",
    "\n",
    "age_med = full.groupby(['Title', 'Pclass'])['Age'].median()\n",
    "def impute_age(row):\n",
    "    if pd.isnull(row['Age']):\n",
    "        return age_med.get((row['Title'], row['Pclass']), full['Age'].median())\n",
    "    return row['Age']\n",
    "\n",
    "full['Age'] = full.apply(impute_age, axis=1)"
   ]
  },
  {
   "cell_type": "code",
   "execution_count": 8,
   "id": "5b9c9d84",
   "metadata": {},
   "outputs": [],
   "source": [
    "full['HasCabin'] = full['Cabin'].notnull().astype(int)\n",
    "full['Deck'] = full['Cabin'].str[0].fillna('Missing')"
   ]
  },
  {
   "cell_type": "code",
   "execution_count": 9,
   "id": "23a20130",
   "metadata": {},
   "outputs": [],
   "source": [
    "# Family size\n",
    "full['FamilySize'] = full['SibSp'] + full['Parch'] + 1\n",
    "full['IsAlone'] = (full['FamilySize'] == 1).astype(int)\n",
    "\n",
    "# Fare per person\n",
    "full['FarePerPerson'] = full['Fare'] / full['FamilySize']\n",
    "\n",
    "# Age bins\n",
    "full['AgeBin'] = pd.cut(full['Age'], bins=[0, 12, 18, 35, 60, 120], labels=['Child', 'Teen', 'Adult', 'Middle', 'Senior'])\n",
    "\n",
    "# Fare log (reduce skew)\n",
    "full['FareLog'] = np.log1p(full['Fare'])"
   ]
  },
  {
   "cell_type": "code",
   "execution_count": 10,
   "id": "47ca2165",
   "metadata": {},
   "outputs": [],
   "source": [
    "drop_cols = ['PassengerId', 'Name', 'Ticket', 'Cabin']\n",
    "full_clean = full.drop(columns=drop_cols)"
   ]
  },
  {
   "cell_type": "code",
   "execution_count": 11,
   "id": "a0a95e4d",
   "metadata": {},
   "outputs": [
    {
     "name": "stdout",
     "output_type": "stream",
     "text": [
      "Train clean: (891, 16) | Test clean: (418, 15)\n"
     ]
    }
   ],
   "source": [
    "train_clean = full_clean[full_clean['is_train'] == 1].drop(columns='is_train')\n",
    "test_clean  = full_clean[full_clean['is_train'] == 0].drop(columns=['is_train', 'Survived'])\n",
    "\n",
    "print(f\"Train clean: {train_clean.shape} | Test clean: {test_clean.shape}\")"
   ]
  },
  {
   "cell_type": "code",
   "execution_count": 12,
   "id": "8fb2a34b",
   "metadata": {},
   "outputs": [
    {
     "name": "stdout",
     "output_type": "stream",
     "text": [
      "Final features:\n",
      "['Survived', 'Pclass', 'Sex', 'Age', 'SibSp', 'Parch', 'Fare', 'Embarked', 'Title', 'HasCabin', 'Deck', 'FamilySize', 'IsAlone', 'FarePerPerson', 'AgeBin', 'FareLog']\n"
     ]
    }
   ],
   "source": [
    "print(\"Final features:\")\n",
    "print(train_clean.columns.tolist())"
   ]
  },
  {
   "cell_type": "code",
   "execution_count": 13,
   "id": "b622b682",
   "metadata": {},
   "outputs": [
    {
     "name": "stdout",
     "output_type": "stream",
     "text": [
      "Clean data saved!\n"
     ]
    }
   ],
   "source": [
    "train_clean.to_csv('../data/processed/train_clean.csv', index=False)\n",
    "test_clean.to_csv('../data/processed/test_clean.csv', index=False)\n",
    "print(\"Clean data saved!\")"
   ]
  },
  {
   "cell_type": "code",
   "execution_count": 14,
   "id": "59cf0c62",
   "metadata": {},
   "outputs": [
    {
     "data": {
      "image/png": "[encoded data removed]",
      "text/plain": [
       "<Figure size 1000x500 with 1 Axes>"
      ]
     },
     "metadata": {},
     "output_type": "display_data"
    },
    {
     "data": {
      "image/png": "[encoded data removed]",
      "text/plain": [
       "<Figure size 640x480 with 1 Axes>"
      ]
     },
     "metadata": {},
     "output_type": "display_data"
    }
   ],
   "source": [
    "# Survival by Title\n",
    "plt.figure(figsize=(10,5))\n",
    "sns.barplot(x='Title', y='Survived', data=train_clean)\n",
    "plt.title('Survival Rate by Title')\n",
    "plt.savefig('../reports/feature_plots/survival_by_title.png', dpi=150, bbox_inches='tight')\n",
    "plt.show()\n",
    "\n",
    "# Survival by FamilySize\n",
    "sns.barplot(x='FamilySize', y='Survived', data=train_clean)\n",
    "plt.title('Survival by Family Size')\n",
    "plt.show()"
   ]
  }
 ],
 "metadata": {
  "kernelspec": {
   "display_name": "kaggle",
   "language": "python",
   "name": "python3"
  },
  "language_info": {
   "codemirror_mode": {
    "name": "ipython",
    "version": 3
   },
   "file_extension": ".py",
   "mimetype": "text/x-python",
   "name": "python",
   "nbconvert_exporter": "python",
   "pygments_lexer": "ipython3",
   "version": "3.11.14"
  }
 },
 "nbformat": 4,
 "nbformat_minor": 5
}
